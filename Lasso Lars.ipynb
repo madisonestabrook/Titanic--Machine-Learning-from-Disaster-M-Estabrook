{
 "cells": [
  {
   "cell_type": "code",
   "execution_count": 1,
   "metadata": {
    "collapsed": false
   },
   "outputs": [
    {
     "ename": "NameError",
     "evalue": "name 'linear_model' is not defined",
     "output_type": "error",
     "traceback": [
      "\u001b[0;31m---------------------------------------------------------------------------\u001b[0m",
      "\u001b[0;31mNameError\u001b[0m                                 Traceback (most recent call last)",
      "\u001b[0;32m<ipython-input-1-9e749e4c9bb3>\u001b[0m in \u001b[0;36m<module>\u001b[0;34m()\u001b[0m\n\u001b[1;32m     24\u001b[0m \u001b[0me\u001b[0m \u001b[1;33m=\u001b[0m \u001b[0mnp\u001b[0m\u001b[1;33m.\u001b[0m\u001b[0matleast_1d\u001b[0m\u001b[1;33m(\u001b[0m\u001b[0me\u001b[0m\u001b[1;33m)\u001b[0m\u001b[1;33m\u001b[0m\u001b[0m\n\u001b[1;32m     25\u001b[0m \u001b[1;33m\u001b[0m\u001b[0m\n\u001b[0;32m---> 26\u001b[0;31m \u001b[0mclf\u001b[0m \u001b[1;33m=\u001b[0m \u001b[0mlinear_model\u001b[0m\u001b[1;33m.\u001b[0m\u001b[0mLassoLars\u001b[0m\u001b[1;33m(\u001b[0m\u001b[0malpha\u001b[0m\u001b[1;33m=\u001b[0m\u001b[1;36m0.01\u001b[0m\u001b[1;33m)\u001b[0m\u001b[1;33m\u001b[0m\u001b[0m\n\u001b[0m\u001b[1;32m     27\u001b[0m \u001b[0mclf\u001b[0m\u001b[1;33m.\u001b[0m\u001b[0mfit\u001b[0m\u001b[1;33m(\u001b[0m\u001b[0mx\u001b[0m\u001b[1;33m,\u001b[0m\u001b[0my\u001b[0m\u001b[1;33m)\u001b[0m\u001b[1;33m\u001b[0m\u001b[0m\n\u001b[1;32m     28\u001b[0m \u001b[0mpreLL\u001b[0m \u001b[1;33m=\u001b[0m \u001b[0mnp\u001b[0m\u001b[1;33m.\u001b[0m\u001b[0mround\u001b[0m\u001b[1;33m(\u001b[0m\u001b[0mclf\u001b[0m\u001b[1;33m.\u001b[0m\u001b[0mpredict\u001b[0m\u001b[1;33m(\u001b[0m\u001b[0mx\u001b[0m\u001b[1;33m)\u001b[0m\u001b[1;33m)\u001b[0m\u001b[1;33m\u001b[0m\u001b[0m\n",
      "\u001b[0;31mNameError\u001b[0m: name 'linear_model' is not defined"
     ]
    }
   ],
   "source": [
    "import numpy as np\n",
    "import pandas as pd\n",
    "from sklearn.linear_model import LogisticRegression\n",
    "\n",
    "x = pd.read_csv('Modetemp.csv')\n",
    "y = pd.read_csv('SurvivedTrain.csv')\n",
    "z = pd.read_csv('Mediantemp.csv')\n",
    "v = pd.read_csv('trainingMEAN.csv')\n",
    "w = pd.read_csv('realdataMEAN.csv')\n",
    "q = pd.read_csv('realdataMODE.csv')\n",
    "e = pd.read_csv('realdataMEDIAN.csv')\n",
    "y = np.ravel(y)\n",
    "\n",
    "w.isnull().any()\n",
    "w = w.fillna(method='ffill')\n",
    "w = np.atleast_1d(w) \n",
    "\n",
    "q.isnull().any()\n",
    "q = q.fillna(method='ffill')\n",
    "q = np.atleast_1d(q) \n",
    "\n",
    "e.isnull().any()\n",
    "e = e.fillna(method='ffill')\n",
    "e = np.atleast_1d(e)\n",
    "\n",
    "clf = linear_model.LassoLars(alpha=0.01)\n",
    "clf.fit(x,y)\n",
    "preLL = np.round(clf.predict(x))\n",
    "accLL = np.sum(np.absolute(y - preLL))\n",
    "r2LL = clf.score(x,y)\n",
    "\n",
    "#print(r2LL)\n",
    "print(np.atleast_3d(preLL))\n",
    "#print(np.atleast_3d(preLL))"
   ]
  }
 ],
 "metadata": {
  "kernelspec": {
   "display_name": "Python 2",
   "language": "python",
   "name": "python2"
  },
  "language_info": {
   "codemirror_mode": {
    "name": "ipython",
    "version": 2
   },
   "file_extension": ".py",
   "mimetype": "text/x-python",
   "name": "python",
   "nbconvert_exporter": "python",
   "pygments_lexer": "ipython2",
   "version": "2.7.13"
  }
 },
 "nbformat": 4,
 "nbformat_minor": 2
}
