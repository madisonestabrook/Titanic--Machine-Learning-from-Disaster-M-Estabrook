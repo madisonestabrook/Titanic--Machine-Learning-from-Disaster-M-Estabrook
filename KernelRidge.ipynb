{
 "cells": [
  {
   "cell_type": "code",
   "execution_count": 1,
   "metadata": {
    "collapsed": true
   },
   "outputs": [],
   "source": [
    "import numpy as np\n",
    "import pandas as pd\n",
    "from sklearn.kernel_ridge import KernelRidge\n",
    "\n",
    "x = pd.read_csv('Modetemp.csv')\n",
    "y = pd.read_csv('SurvivedTrain.csv')\n",
    "z = pd.read_csv('Mediantemp.csv')\n",
    "v = pd.read_csv('trainingMEAN.csv')\n",
    "w = pd.read_csv('realdataMEAN.csv')\n",
    "q = pd.read_csv('realdataMODE.csv')\n",
    "e = pd.read_csv('realdataMEDIAN.csv')\n",
    "y = np.ravel(y)\n",
    "\n",
    "w.isnull().any()\n",
    "w = w.fillna(method='ffill')\n",
    "w = np.atleast_1d(w) \n",
    "\n",
    "q.isnull().any()\n",
    "q = q.fillna(method='ffill')\n",
    "q = np.atleast_1d(q) \n",
    "\n",
    "e.isnull().any()\n",
    "e = e.fillna(method='ffill')\n",
    "e = np.atleast_1d(e)\n",
    "\n",
    "clf = KernelRidge(alpha=.01)\n",
    "clf.fit(x, y) \n",
    "preKR = np.round(clf.predict(x))\n",
    "r2KR = clf.score(x,y)\n",
    "\n",
    "#print(r2KR)\n",
    "print(np.atleast_3d(preKR))\n",
    "#print(np.atleast_3d(preKR))"
   ]
  }
 ],
 "metadata": {
  "kernelspec": {
   "display_name": "Python 2",
   "language": "python",
   "name": "python2"
  },
  "language_info": {
   "codemirror_mode": {
    "name": "ipython",
    "version": 2
   },
   "file_extension": ".py",
   "mimetype": "text/x-python",
   "name": "python",
   "nbconvert_exporter": "python",
   "pygments_lexer": "ipython2",
   "version": "2.7.13"
  }
 },
 "nbformat": 4,
 "nbformat_minor": 2
}
